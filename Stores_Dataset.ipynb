{
  "cells": [
    {
      "cell_type": "code",
      "execution_count": null,
      "metadata": {
        "id": "nHwW3Rdo2ABc"
      },
      "outputs": [],
      "source": [
        "import pandas as pd\n",
        "import numpy as np"
      ]
    },
    {
      "cell_type": "code",
      "execution_count": null,
      "metadata": {
        "colab": {
          "base_uri": "https://localhost:8080/",
          "height": 424
        },
        "id": "qX65K3nH2Pll",
        "outputId": "d1bb4ea5-58c3-4e0f-b798-a5e20bff4e2a"
      },
      "outputs": [
        {
          "data": {
            "text/html": [
              "\n",
              "\n",
              "  <div id=\"df-6bb1e1b9-503b-4588-9ddc-509389970373\">\n",
              "    <div class=\"colab-df-container\">\n",
              "      <div>\n",
              "<style scoped>\n",
              "    .dataframe tbody tr th:only-of-type {\n",
              "        vertical-align: middle;\n",
              "    }\n",
              "\n",
              "    .dataframe tbody tr th {\n",
              "        vertical-align: top;\n",
              "    }\n",
              "\n",
              "    .dataframe thead th {\n",
              "        text-align: right;\n",
              "    }\n",
              "</style>\n",
              "<table border=\"1\" class=\"dataframe\">\n",
              "  <thead>\n",
              "    <tr style=\"text-align: right;\">\n",
              "      <th></th>\n",
              "      <th>Store ID</th>\n",
              "      <th>Store_Area</th>\n",
              "      <th>Items_Available</th>\n",
              "      <th>Daily_Customer_Count</th>\n",
              "      <th>Store_Sales</th>\n",
              "    </tr>\n",
              "  </thead>\n",
              "  <tbody>\n",
              "    <tr>\n",
              "      <th>0</th>\n",
              "      <td>1</td>\n",
              "      <td>1659</td>\n",
              "      <td>1961</td>\n",
              "      <td>530</td>\n",
              "      <td>66490</td>\n",
              "    </tr>\n",
              "    <tr>\n",
              "      <th>1</th>\n",
              "      <td>2</td>\n",
              "      <td>1461</td>\n",
              "      <td>1752</td>\n",
              "      <td>210</td>\n",
              "      <td>39820</td>\n",
              "    </tr>\n",
              "    <tr>\n",
              "      <th>2</th>\n",
              "      <td>3</td>\n",
              "      <td>1340</td>\n",
              "      <td>1609</td>\n",
              "      <td>720</td>\n",
              "      <td>54010</td>\n",
              "    </tr>\n",
              "    <tr>\n",
              "      <th>3</th>\n",
              "      <td>4</td>\n",
              "      <td>1451</td>\n",
              "      <td>1748</td>\n",
              "      <td>620</td>\n",
              "      <td>53730</td>\n",
              "    </tr>\n",
              "    <tr>\n",
              "      <th>4</th>\n",
              "      <td>5</td>\n",
              "      <td>1770</td>\n",
              "      <td>2111</td>\n",
              "      <td>450</td>\n",
              "      <td>46620</td>\n",
              "    </tr>\n",
              "    <tr>\n",
              "      <th>...</th>\n",
              "      <td>...</td>\n",
              "      <td>...</td>\n",
              "      <td>...</td>\n",
              "      <td>...</td>\n",
              "      <td>...</td>\n",
              "    </tr>\n",
              "    <tr>\n",
              "      <th>891</th>\n",
              "      <td>892</td>\n",
              "      <td>1582</td>\n",
              "      <td>1910</td>\n",
              "      <td>1080</td>\n",
              "      <td>66390</td>\n",
              "    </tr>\n",
              "    <tr>\n",
              "      <th>892</th>\n",
              "      <td>893</td>\n",
              "      <td>1387</td>\n",
              "      <td>1663</td>\n",
              "      <td>850</td>\n",
              "      <td>82080</td>\n",
              "    </tr>\n",
              "    <tr>\n",
              "      <th>893</th>\n",
              "      <td>894</td>\n",
              "      <td>1200</td>\n",
              "      <td>1436</td>\n",
              "      <td>1060</td>\n",
              "      <td>76440</td>\n",
              "    </tr>\n",
              "    <tr>\n",
              "      <th>894</th>\n",
              "      <td>895</td>\n",
              "      <td>1299</td>\n",
              "      <td>1560</td>\n",
              "      <td>770</td>\n",
              "      <td>96610</td>\n",
              "    </tr>\n",
              "    <tr>\n",
              "      <th>895</th>\n",
              "      <td>896</td>\n",
              "      <td>1174</td>\n",
              "      <td>1429</td>\n",
              "      <td>1110</td>\n",
              "      <td>54340</td>\n",
              "    </tr>\n",
              "  </tbody>\n",
              "</table>\n",
              "<p>896 rows × 5 columns</p>\n",
              "</div>\n",
              "      <button class=\"colab-df-convert\" onclick=\"convertToInteractive('df-6bb1e1b9-503b-4588-9ddc-509389970373')\"\n",
              "              title=\"Convert this dataframe to an interactive table.\"\n",
              "              style=\"display:none;\">\n",
              "\n",
              "  <svg xmlns=\"http://www.w3.org/2000/svg\" height=\"24px\"viewBox=\"0 0 24 24\"\n",
              "       width=\"24px\">\n",
              "    <path d=\"M0 0h24v24H0V0z\" fill=\"none\"/>\n",
              "    <path d=\"M18.56 5.44l.94 2.06.94-2.06 2.06-.94-2.06-.94-.94-2.06-.94 2.06-2.06.94zm-11 1L8.5 8.5l.94-2.06 2.06-.94-2.06-.94L8.5 2.5l-.94 2.06-2.06.94zm10 10l.94 2.06.94-2.06 2.06-.94-2.06-.94-.94-2.06-.94 2.06-2.06.94z\"/><path d=\"M17.41 7.96l-1.37-1.37c-.4-.4-.92-.59-1.43-.59-.52 0-1.04.2-1.43.59L10.3 9.45l-7.72 7.72c-.78.78-.78 2.05 0 2.83L4 21.41c.39.39.9.59 1.41.59.51 0 1.02-.2 1.41-.59l7.78-7.78 2.81-2.81c.8-.78.8-2.07 0-2.86zM5.41 20L4 18.59l7.72-7.72 1.47 1.35L5.41 20z\"/>\n",
              "  </svg>\n",
              "      </button>\n",
              "\n",
              "\n",
              "\n",
              "    <div id=\"df-8bca6ea9-3d91-4a71-8a59-71c4bdee7482\">\n",
              "      <button class=\"colab-df-quickchart\" onclick=\"quickchart('df-8bca6ea9-3d91-4a71-8a59-71c4bdee7482')\"\n",
              "              title=\"Suggest charts.\"\n",
              "              style=\"display:none;\">\n",
              "\n",
              "<svg xmlns=\"http://www.w3.org/2000/svg\" height=\"24px\"viewBox=\"0 0 24 24\"\n",
              "     width=\"24px\">\n",
              "    <g>\n",
              "        <path d=\"M19 3H5c-1.1 0-2 .9-2 2v14c0 1.1.9 2 2 2h14c1.1 0 2-.9 2-2V5c0-1.1-.9-2-2-2zM9 17H7v-7h2v7zm4 0h-2V7h2v10zm4 0h-2v-4h2v4z\"/>\n",
              "    </g>\n",
              "</svg>\n",
              "      </button>\n",
              "    </div>\n",
              "\n",
              "<style>\n",
              "  .colab-df-quickchart {\n",
              "    background-color: #E8F0FE;\n",
              "    border: none;\n",
              "    border-radius: 50%;\n",
              "    cursor: pointer;\n",
              "    display: none;\n",
              "    fill: #1967D2;\n",
              "    height: 32px;\n",
              "    padding: 0 0 0 0;\n",
              "    width: 32px;\n",
              "  }\n",
              "\n",
              "  .colab-df-quickchart:hover {\n",
              "    background-color: #E2EBFA;\n",
              "    box-shadow: 0px 1px 2px rgba(60, 64, 67, 0.3), 0px 1px 3px 1px rgba(60, 64, 67, 0.15);\n",
              "    fill: #174EA6;\n",
              "  }\n",
              "\n",
              "  [theme=dark] .colab-df-quickchart {\n",
              "    background-color: #3B4455;\n",
              "    fill: #D2E3FC;\n",
              "  }\n",
              "\n",
              "  [theme=dark] .colab-df-quickchart:hover {\n",
              "    background-color: #434B5C;\n",
              "    box-shadow: 0px 1px 3px 1px rgba(0, 0, 0, 0.15);\n",
              "    filter: drop-shadow(0px 1px 2px rgba(0, 0, 0, 0.3));\n",
              "    fill: #FFFFFF;\n",
              "  }\n",
              "</style>\n",
              "\n",
              "    <script>\n",
              "      async function quickchart(key) {\n",
              "        const containerElement = document.querySelector('#' + key);\n",
              "        const charts = await google.colab.kernel.invokeFunction(\n",
              "            'suggestCharts', [key], {});\n",
              "      }\n",
              "    </script>\n",
              "\n",
              "      <script>\n",
              "\n",
              "function displayQuickchartButton(domScope) {\n",
              "  let quickchartButtonEl =\n",
              "    domScope.querySelector('#df-8bca6ea9-3d91-4a71-8a59-71c4bdee7482 button.colab-df-quickchart');\n",
              "  quickchartButtonEl.style.display =\n",
              "    google.colab.kernel.accessAllowed ? 'block' : 'none';\n",
              "}\n",
              "\n",
              "        displayQuickchartButton(document);\n",
              "      </script>\n",
              "      <style>\n",
              "    .colab-df-container {\n",
              "      display:flex;\n",
              "      flex-wrap:wrap;\n",
              "      gap: 12px;\n",
              "    }\n",
              "\n",
              "    .colab-df-convert {\n",
              "      background-color: #E8F0FE;\n",
              "      border: none;\n",
              "      border-radius: 50%;\n",
              "      cursor: pointer;\n",
              "      display: none;\n",
              "      fill: #1967D2;\n",
              "      height: 32px;\n",
              "      padding: 0 0 0 0;\n",
              "      width: 32px;\n",
              "    }\n",
              "\n",
              "    .colab-df-convert:hover {\n",
              "      background-color: #E2EBFA;\n",
              "      box-shadow: 0px 1px 2px rgba(60, 64, 67, 0.3), 0px 1px 3px 1px rgba(60, 64, 67, 0.15);\n",
              "      fill: #174EA6;\n",
              "    }\n",
              "\n",
              "    [theme=dark] .colab-df-convert {\n",
              "      background-color: #3B4455;\n",
              "      fill: #D2E3FC;\n",
              "    }\n",
              "\n",
              "    [theme=dark] .colab-df-convert:hover {\n",
              "      background-color: #434B5C;\n",
              "      box-shadow: 0px 1px 3px 1px rgba(0, 0, 0, 0.15);\n",
              "      filter: drop-shadow(0px 1px 2px rgba(0, 0, 0, 0.3));\n",
              "      fill: #FFFFFF;\n",
              "    }\n",
              "  </style>\n",
              "\n",
              "      <script>\n",
              "        const buttonEl =\n",
              "          document.querySelector('#df-6bb1e1b9-503b-4588-9ddc-509389970373 button.colab-df-convert');\n",
              "        buttonEl.style.display =\n",
              "          google.colab.kernel.accessAllowed ? 'block' : 'none';\n",
              "\n",
              "        async function convertToInteractive(key) {\n",
              "          const element = document.querySelector('#df-6bb1e1b9-503b-4588-9ddc-509389970373');\n",
              "          const dataTable =\n",
              "            await google.colab.kernel.invokeFunction('convertToInteractive',\n",
              "                                                     [key], {});\n",
              "          if (!dataTable) return;\n",
              "\n",
              "          const docLinkHtml = 'Like what you see? Visit the ' +\n",
              "            '<a target=\"_blank\" href=https://colab.research.google.com/notebooks/data_table.ipynb>data table notebook</a>'\n",
              "            + ' to learn more about interactive tables.';\n",
              "          element.innerHTML = '';\n",
              "          dataTable['output_type'] = 'display_data';\n",
              "          await google.colab.output.renderOutput(dataTable, element);\n",
              "          const docLink = document.createElement('div');\n",
              "          docLink.innerHTML = docLinkHtml;\n",
              "          element.appendChild(docLink);\n",
              "        }\n",
              "      </script>\n",
              "    </div>\n",
              "  </div>\n"
            ],
            "text/plain": [
              "     Store ID   Store_Area  Items_Available  Daily_Customer_Count  Store_Sales\n",
              "0            1        1659             1961                   530        66490\n",
              "1            2        1461             1752                   210        39820\n",
              "2            3        1340             1609                   720        54010\n",
              "3            4        1451             1748                   620        53730\n",
              "4            5        1770             2111                   450        46620\n",
              "..         ...         ...              ...                   ...          ...\n",
              "891        892        1582             1910                  1080        66390\n",
              "892        893        1387             1663                   850        82080\n",
              "893        894        1200             1436                  1060        76440\n",
              "894        895        1299             1560                   770        96610\n",
              "895        896        1174             1429                  1110        54340\n",
              "\n",
              "[896 rows x 5 columns]"
            ]
          },
          "execution_count": 3,
          "metadata": {},
          "output_type": "execute_result"
        }
      ],
      "source": [
        "df=pd.read_csv('Stores.csv')\n",
        "df"
      ]
    },
    {
      "cell_type": "code",
      "execution_count": null,
      "metadata": {
        "colab": {
          "base_uri": "https://localhost:8080/"
        },
        "id": "TRR3_E0z2Wqz",
        "outputId": "60cb63b8-a0e5-4996-ba11-7cf8ed1016b1"
      },
      "outputs": [
        {
          "data": {
            "text/plain": [
              "Index(['Store ID ', 'Store_Area', 'Items_Available', 'Daily_Customer_Count',\n",
              "       'Store_Sales'],\n",
              "      dtype='object')"
            ]
          },
          "execution_count": 4,
          "metadata": {},
          "output_type": "execute_result"
        }
      ],
      "source": [
        "df.columns"
      ]
    },
    {
      "cell_type": "code",
      "execution_count": null,
      "metadata": {
        "id": "9HeLRLay2gML"
      },
      "outputs": [],
      "source": [
        "x=df.drop(['Store_Sales'],axis=1)\n",
        "y=df['Store_Sales']"
      ]
    },
    {
      "cell_type": "code",
      "execution_count": null,
      "metadata": {
        "colab": {
          "base_uri": "https://localhost:8080/",
          "height": 424
        },
        "id": "NDjCuXTN2msG",
        "outputId": "5929fc0b-dc9f-4182-b0d4-f02ace80c306"
      },
      "outputs": [
        {
          "data": {
            "text/html": [
              "\n",
              "\n",
              "  <div id=\"df-f8080248-bcf8-4dad-b193-0ae53405c441\">\n",
              "    <div class=\"colab-df-container\">\n",
              "      <div>\n",
              "<style scoped>\n",
              "    .dataframe tbody tr th:only-of-type {\n",
              "        vertical-align: middle;\n",
              "    }\n",
              "\n",
              "    .dataframe tbody tr th {\n",
              "        vertical-align: top;\n",
              "    }\n",
              "\n",
              "    .dataframe thead th {\n",
              "        text-align: right;\n",
              "    }\n",
              "</style>\n",
              "<table border=\"1\" class=\"dataframe\">\n",
              "  <thead>\n",
              "    <tr style=\"text-align: right;\">\n",
              "      <th></th>\n",
              "      <th>Store ID</th>\n",
              "      <th>Store_Area</th>\n",
              "      <th>Items_Available</th>\n",
              "      <th>Daily_Customer_Count</th>\n",
              "    </tr>\n",
              "  </thead>\n",
              "  <tbody>\n",
              "    <tr>\n",
              "      <th>0</th>\n",
              "      <td>1</td>\n",
              "      <td>1659</td>\n",
              "      <td>1961</td>\n",
              "      <td>530</td>\n",
              "    </tr>\n",
              "    <tr>\n",
              "      <th>1</th>\n",
              "      <td>2</td>\n",
              "      <td>1461</td>\n",
              "      <td>1752</td>\n",
              "      <td>210</td>\n",
              "    </tr>\n",
              "    <tr>\n",
              "      <th>2</th>\n",
              "      <td>3</td>\n",
              "      <td>1340</td>\n",
              "      <td>1609</td>\n",
              "      <td>720</td>\n",
              "    </tr>\n",
              "    <tr>\n",
              "      <th>3</th>\n",
              "      <td>4</td>\n",
              "      <td>1451</td>\n",
              "      <td>1748</td>\n",
              "      <td>620</td>\n",
              "    </tr>\n",
              "    <tr>\n",
              "      <th>4</th>\n",
              "      <td>5</td>\n",
              "      <td>1770</td>\n",
              "      <td>2111</td>\n",
              "      <td>450</td>\n",
              "    </tr>\n",
              "    <tr>\n",
              "      <th>...</th>\n",
              "      <td>...</td>\n",
              "      <td>...</td>\n",
              "      <td>...</td>\n",
              "      <td>...</td>\n",
              "    </tr>\n",
              "    <tr>\n",
              "      <th>891</th>\n",
              "      <td>892</td>\n",
              "      <td>1582</td>\n",
              "      <td>1910</td>\n",
              "      <td>1080</td>\n",
              "    </tr>\n",
              "    <tr>\n",
              "      <th>892</th>\n",
              "      <td>893</td>\n",
              "      <td>1387</td>\n",
              "      <td>1663</td>\n",
              "      <td>850</td>\n",
              "    </tr>\n",
              "    <tr>\n",
              "      <th>893</th>\n",
              "      <td>894</td>\n",
              "      <td>1200</td>\n",
              "      <td>1436</td>\n",
              "      <td>1060</td>\n",
              "    </tr>\n",
              "    <tr>\n",
              "      <th>894</th>\n",
              "      <td>895</td>\n",
              "      <td>1299</td>\n",
              "      <td>1560</td>\n",
              "      <td>770</td>\n",
              "    </tr>\n",
              "    <tr>\n",
              "      <th>895</th>\n",
              "      <td>896</td>\n",
              "      <td>1174</td>\n",
              "      <td>1429</td>\n",
              "      <td>1110</td>\n",
              "    </tr>\n",
              "  </tbody>\n",
              "</table>\n",
              "<p>896 rows × 4 columns</p>\n",
              "</div>\n",
              "      <button class=\"colab-df-convert\" onclick=\"convertToInteractive('df-f8080248-bcf8-4dad-b193-0ae53405c441')\"\n",
              "              title=\"Convert this dataframe to an interactive table.\"\n",
              "              style=\"display:none;\">\n",
              "\n",
              "  <svg xmlns=\"http://www.w3.org/2000/svg\" height=\"24px\"viewBox=\"0 0 24 24\"\n",
              "       width=\"24px\">\n",
              "    <path d=\"M0 0h24v24H0V0z\" fill=\"none\"/>\n",
              "    <path d=\"M18.56 5.44l.94 2.06.94-2.06 2.06-.94-2.06-.94-.94-2.06-.94 2.06-2.06.94zm-11 1L8.5 8.5l.94-2.06 2.06-.94-2.06-.94L8.5 2.5l-.94 2.06-2.06.94zm10 10l.94 2.06.94-2.06 2.06-.94-2.06-.94-.94-2.06-.94 2.06-2.06.94z\"/><path d=\"M17.41 7.96l-1.37-1.37c-.4-.4-.92-.59-1.43-.59-.52 0-1.04.2-1.43.59L10.3 9.45l-7.72 7.72c-.78.78-.78 2.05 0 2.83L4 21.41c.39.39.9.59 1.41.59.51 0 1.02-.2 1.41-.59l7.78-7.78 2.81-2.81c.8-.78.8-2.07 0-2.86zM5.41 20L4 18.59l7.72-7.72 1.47 1.35L5.41 20z\"/>\n",
              "  </svg>\n",
              "      </button>\n",
              "\n",
              "\n",
              "\n",
              "    <div id=\"df-b9a989f0-a66b-4f1a-ac66-d509262c2a3e\">\n",
              "      <button class=\"colab-df-quickchart\" onclick=\"quickchart('df-b9a989f0-a66b-4f1a-ac66-d509262c2a3e')\"\n",
              "              title=\"Suggest charts.\"\n",
              "              style=\"display:none;\">\n",
              "\n",
              "<svg xmlns=\"http://www.w3.org/2000/svg\" height=\"24px\"viewBox=\"0 0 24 24\"\n",
              "     width=\"24px\">\n",
              "    <g>\n",
              "        <path d=\"M19 3H5c-1.1 0-2 .9-2 2v14c0 1.1.9 2 2 2h14c1.1 0 2-.9 2-2V5c0-1.1-.9-2-2-2zM9 17H7v-7h2v7zm4 0h-2V7h2v10zm4 0h-2v-4h2v4z\"/>\n",
              "    </g>\n",
              "</svg>\n",
              "      </button>\n",
              "    </div>\n",
              "\n",
              "<style>\n",
              "  .colab-df-quickchart {\n",
              "    background-color: #E8F0FE;\n",
              "    border: none;\n",
              "    border-radius: 50%;\n",
              "    cursor: pointer;\n",
              "    display: none;\n",
              "    fill: #1967D2;\n",
              "    height: 32px;\n",
              "    padding: 0 0 0 0;\n",
              "    width: 32px;\n",
              "  }\n",
              "\n",
              "  .colab-df-quickchart:hover {\n",
              "    background-color: #E2EBFA;\n",
              "    box-shadow: 0px 1px 2px rgba(60, 64, 67, 0.3), 0px 1px 3px 1px rgba(60, 64, 67, 0.15);\n",
              "    fill: #174EA6;\n",
              "  }\n",
              "\n",
              "  [theme=dark] .colab-df-quickchart {\n",
              "    background-color: #3B4455;\n",
              "    fill: #D2E3FC;\n",
              "  }\n",
              "\n",
              "  [theme=dark] .colab-df-quickchart:hover {\n",
              "    background-color: #434B5C;\n",
              "    box-shadow: 0px 1px 3px 1px rgba(0, 0, 0, 0.15);\n",
              "    filter: drop-shadow(0px 1px 2px rgba(0, 0, 0, 0.3));\n",
              "    fill: #FFFFFF;\n",
              "  }\n",
              "</style>\n",
              "\n",
              "    <script>\n",
              "      async function quickchart(key) {\n",
              "        const containerElement = document.querySelector('#' + key);\n",
              "        const charts = await google.colab.kernel.invokeFunction(\n",
              "            'suggestCharts', [key], {});\n",
              "      }\n",
              "    </script>\n",
              "\n",
              "      <script>\n",
              "\n",
              "function displayQuickchartButton(domScope) {\n",
              "  let quickchartButtonEl =\n",
              "    domScope.querySelector('#df-b9a989f0-a66b-4f1a-ac66-d509262c2a3e button.colab-df-quickchart');\n",
              "  quickchartButtonEl.style.display =\n",
              "    google.colab.kernel.accessAllowed ? 'block' : 'none';\n",
              "}\n",
              "\n",
              "        displayQuickchartButton(document);\n",
              "      </script>\n",
              "      <style>\n",
              "    .colab-df-container {\n",
              "      display:flex;\n",
              "      flex-wrap:wrap;\n",
              "      gap: 12px;\n",
              "    }\n",
              "\n",
              "    .colab-df-convert {\n",
              "      background-color: #E8F0FE;\n",
              "      border: none;\n",
              "      border-radius: 50%;\n",
              "      cursor: pointer;\n",
              "      display: none;\n",
              "      fill: #1967D2;\n",
              "      height: 32px;\n",
              "      padding: 0 0 0 0;\n",
              "      width: 32px;\n",
              "    }\n",
              "\n",
              "    .colab-df-convert:hover {\n",
              "      background-color: #E2EBFA;\n",
              "      box-shadow: 0px 1px 2px rgba(60, 64, 67, 0.3), 0px 1px 3px 1px rgba(60, 64, 67, 0.15);\n",
              "      fill: #174EA6;\n",
              "    }\n",
              "\n",
              "    [theme=dark] .colab-df-convert {\n",
              "      background-color: #3B4455;\n",
              "      fill: #D2E3FC;\n",
              "    }\n",
              "\n",
              "    [theme=dark] .colab-df-convert:hover {\n",
              "      background-color: #434B5C;\n",
              "      box-shadow: 0px 1px 3px 1px rgba(0, 0, 0, 0.15);\n",
              "      filter: drop-shadow(0px 1px 2px rgba(0, 0, 0, 0.3));\n",
              "      fill: #FFFFFF;\n",
              "    }\n",
              "  </style>\n",
              "\n",
              "      <script>\n",
              "        const buttonEl =\n",
              "          document.querySelector('#df-f8080248-bcf8-4dad-b193-0ae53405c441 button.colab-df-convert');\n",
              "        buttonEl.style.display =\n",
              "          google.colab.kernel.accessAllowed ? 'block' : 'none';\n",
              "\n",
              "        async function convertToInteractive(key) {\n",
              "          const element = document.querySelector('#df-f8080248-bcf8-4dad-b193-0ae53405c441');\n",
              "          const dataTable =\n",
              "            await google.colab.kernel.invokeFunction('convertToInteractive',\n",
              "                                                     [key], {});\n",
              "          if (!dataTable) return;\n",
              "\n",
              "          const docLinkHtml = 'Like what you see? Visit the ' +\n",
              "            '<a target=\"_blank\" href=https://colab.research.google.com/notebooks/data_table.ipynb>data table notebook</a>'\n",
              "            + ' to learn more about interactive tables.';\n",
              "          element.innerHTML = '';\n",
              "          dataTable['output_type'] = 'display_data';\n",
              "          await google.colab.output.renderOutput(dataTable, element);\n",
              "          const docLink = document.createElement('div');\n",
              "          docLink.innerHTML = docLinkHtml;\n",
              "          element.appendChild(docLink);\n",
              "        }\n",
              "      </script>\n",
              "    </div>\n",
              "  </div>\n"
            ],
            "text/plain": [
              "     Store ID   Store_Area  Items_Available  Daily_Customer_Count\n",
              "0            1        1659             1961                   530\n",
              "1            2        1461             1752                   210\n",
              "2            3        1340             1609                   720\n",
              "3            4        1451             1748                   620\n",
              "4            5        1770             2111                   450\n",
              "..         ...         ...              ...                   ...\n",
              "891        892        1582             1910                  1080\n",
              "892        893        1387             1663                   850\n",
              "893        894        1200             1436                  1060\n",
              "894        895        1299             1560                   770\n",
              "895        896        1174             1429                  1110\n",
              "\n",
              "[896 rows x 4 columns]"
            ]
          },
          "execution_count": 6,
          "metadata": {},
          "output_type": "execute_result"
        }
      ],
      "source": [
        "x"
      ]
    },
    {
      "cell_type": "code",
      "execution_count": null,
      "metadata": {
        "colab": {
          "base_uri": "https://localhost:8080/"
        },
        "id": "Wcv-qasZ2p_9",
        "outputId": "fe1196f1-3ace-4c58-fa41-ccfdb6b77e7c"
      },
      "outputs": [
        {
          "data": {
            "text/plain": [
              "0      66490\n",
              "1      39820\n",
              "2      54010\n",
              "3      53730\n",
              "4      46620\n",
              "       ...  \n",
              "891    66390\n",
              "892    82080\n",
              "893    76440\n",
              "894    96610\n",
              "895    54340\n",
              "Name: Store_Sales, Length: 896, dtype: int64"
            ]
          },
          "execution_count": 7,
          "metadata": {},
          "output_type": "execute_result"
        }
      ],
      "source": [
        "y"
      ]
    },
    {
      "cell_type": "code",
      "execution_count": null,
      "metadata": {
        "id": "GZeBd3LF2smI"
      },
      "outputs": [],
      "source": [
        "from sklearn.linear_model import LinearRegression\n",
        "model=LinearRegression()\n",
        "model.fit(x,y)\n",
        "y_pred=model.predict(x)"
      ]
    },
    {
      "cell_type": "code",
      "execution_count": null,
      "metadata": {
        "colab": {
          "base_uri": "https://localhost:8080/"
        },
        "id": "05rJNp8n3aCJ",
        "outputId": "a9fd81bc-d1e0-4210-9224-f33f9f8f2fae"
      },
      "outputs": [
        {
          "data": {
            "text/plain": [
              "array([57156.54808765, 56398.87933419, 56054.72676947, 56953.4569062 ,\n",
              "       58444.89508627, 56884.57597572, 58000.22383515, 55542.95669672,\n",
              "       54655.46509812, 54168.66227556, 55765.9811158 , 58897.29353041,\n",
              "       58244.31734199, 58195.53667264, 56826.23387985, 57578.28520198,\n",
              "       58852.07807959, 58690.87809889, 57247.06942071, 61005.9482906 ,\n",
              "       56218.39873363, 56817.44203662, 59099.50484742, 57247.88730608,\n",
              "       55714.70075899, 58847.78152561, 57664.277574  , 56081.87593618,\n",
              "       57410.7924689 , 59196.29796904, 57728.02494849, 56020.49647446,\n",
              "       56599.02459582, 59981.57838824, 56629.23883792, 59467.97100865,\n",
              "       57267.83261341, 55398.21837635, 59926.54763466, 54832.91878538,\n",
              "       57449.87645309, 53243.52054234, 58649.88622764, 58804.96607172,\n",
              "       53152.60625184, 55517.5909865 , 58118.02153751, 58373.75881845,\n",
              "       57977.28528631, 56970.83549272, 57775.35487272, 58444.22906748,\n",
              "       54002.60822925, 59958.51723253, 58606.65579622, 56876.17877304,\n",
              "       58883.3959307 , 57507.95654822, 59323.79846318, 57845.6037737 ,\n",
              "       58554.67041031, 60223.51328185, 56565.64025668, 55880.50179418,\n",
              "       56645.9272199 , 59250.25786467, 60232.15075806, 55928.38773287,\n",
              "       57845.62970053, 56012.88991288, 58620.66524181, 54785.69338325,\n",
              "       53216.00593928, 56867.7612645 , 57297.17810158, 58301.44498524,\n",
              "       55627.17056531, 55528.79948142, 58677.25006354, 57391.6600528 ,\n",
              "       56777.28021913, 58465.50532094, 56606.83957045, 58608.3991593 ,\n",
              "       55844.9673533 , 56920.5928804 , 61660.63942468, 56052.93977343,\n",
              "       55365.37810618, 56647.45122488, 58476.15262846, 62745.1285817 ,\n",
              "       59733.48102952, 56610.20568954, 61278.42563013, 61319.75551524,\n",
              "       60875.72620908, 60015.13981402, 59932.10826538, 58718.83645422,\n",
              "       55119.9584121 , 60403.5461269 , 55893.6336177 , 57288.65415999,\n",
              "       57084.91376957, 55099.2614764 , 59157.17145385, 60554.59659782,\n",
              "       57847.79143267, 57336.23788614, 55363.36899568, 57839.10708038,\n",
              "       60160.87463941, 58633.81210697, 60950.99271676, 55231.790455  ,\n",
              "       55029.71536052, 58759.23197492, 57806.3679464 , 59060.4178975 ,\n",
              "       57414.91842962, 58261.9384173 , 56279.42497458, 60915.78937263,\n",
              "       54856.99780825, 59497.67714466, 60110.60321137, 59033.01284492,\n",
              "       56997.51762722, 57100.56468117, 56347.62727389, 54013.91125892,\n",
              "       57365.05291116, 60001.96670264, 56933.62992097, 58804.57516549,\n",
              "       59111.44382866, 58755.10520671, 60662.64691053, 55534.45090424,\n",
              "       61354.89563555, 59774.75753699, 55638.48086885, 57754.54016643,\n",
              "       56883.756549  , 58113.35986295, 57600.81201522, 55665.86935823,\n",
              "       56231.20251799, 60560.243817  , 56571.60577646, 58235.17656576,\n",
              "       58136.03499803, 58277.08347352, 56845.03933897, 57089.41855378,\n",
              "       58690.97447518, 57176.23246658, 53163.23047062, 56923.54396642,\n",
              "       59315.25412164, 57275.6096103 , 58173.73223878, 62217.71477714,\n",
              "       59893.2808225 , 53553.32877117, 57869.69395588, 56998.2522    ,\n",
              "       56489.98788008, 57275.61002989, 56612.78982168, 58211.91504469,\n",
              "       54414.56445934, 60690.87917787, 58090.42017208, 56725.9814452 ,\n",
              "       58411.7420014 , 57731.08920335, 58980.07051523, 59172.97687121,\n",
              "       59115.55370132, 55655.37165051, 62310.98134214, 60063.40039172,\n",
              "       57761.42847173, 56972.28850762, 57494.68999992, 59412.23872352,\n",
              "       56895.32023487, 59110.32012094, 56757.47864242, 60934.62811508,\n",
              "       58662.39020743, 60428.50418797, 59179.0897395 , 60664.89999001,\n",
              "       58430.13539168, 59001.86965836, 57423.62837478, 55622.93256099,\n",
              "       57250.83375461, 56505.62815066, 56738.16763376, 54761.13507894,\n",
              "       59021.97873058, 59915.19834015, 59034.97212345, 56988.32074381,\n",
              "       60335.60369196, 58133.84221509, 56707.27653177, 59097.39814236,\n",
              "       58995.83183106, 61055.69618857, 57161.85095729, 58164.5615803 ,\n",
              "       59175.99409989, 58499.52865065, 57915.95167762, 58004.2415301 ,\n",
              "       57870.92096104, 58264.12238501, 57039.55424733, 58189.65489025,\n",
              "       58935.86285697, 60125.42677435, 61390.78326354, 60493.84216421,\n",
              "       57061.74078826, 57832.74086861, 57078.28702713, 57684.23984032,\n",
              "       56536.99110387, 57882.89784021, 57641.93159348, 60325.18853033,\n",
              "       56474.86302267, 56705.26480919, 61107.80996628, 60824.92429096,\n",
              "       57979.39770317, 58713.81836406, 58238.06200275, 61533.58414725,\n",
              "       56380.94748303, 60289.21054592, 56538.16263853, 57372.07214202,\n",
              "       60642.35525236, 59551.0866955 , 57357.3476115 , 58273.44987147,\n",
              "       59223.8521265 , 58387.75286041, 59141.40535101, 57993.94783332,\n",
              "       60492.11474642, 55128.10889303, 61642.00445537, 55476.23045755,\n",
              "       56923.74933796, 54740.92732998, 56400.354548  , 61635.33293344,\n",
              "       56705.4330219 , 56956.78523338, 57955.31602563, 59668.24209466,\n",
              "       56867.70609148, 58476.62470407, 56745.22923315, 61103.51803   ,\n",
              "       57260.20419075, 57888.15195176, 60111.54003272, 58441.39287254,\n",
              "       60603.78782186, 58770.43211006, 60540.40810481, 56641.39805531,\n",
              "       56633.47635775, 59798.15592457, 59389.62128004, 57152.57215152,\n",
              "       61025.38699943, 55814.76007298, 57339.87303463, 58578.62925615,\n",
              "       58570.22078722, 61628.79921102, 55000.28618322, 55124.34003909,\n",
              "       57578.61152064, 56966.62281579, 58538.82577103, 56458.33753205,\n",
              "       56987.24919096, 55491.83008529, 58594.14096504, 55486.63085746,\n",
              "       58511.4086814 , 60073.2023473 , 57212.0779187 , 59080.95736902,\n",
              "       55788.94018806, 58564.41486324, 58214.94107611, 57735.56088867,\n",
              "       59309.62863177, 59843.33512334, 59412.33780318, 61401.66576158,\n",
              "       59748.57893612, 60340.18128219, 60690.4081834 , 57561.52767609,\n",
              "       58461.65948936, 56756.69707818, 57079.22104061, 59387.88920047,\n",
              "       57172.57958381, 56376.8755372 , 58256.46836367, 61174.33475869,\n",
              "       58148.56869138, 59000.60910035, 58188.43433841, 60602.44329582,\n",
              "       60184.48968767, 59373.00093216, 55833.20147706, 59707.85832623,\n",
              "       56981.57120925, 60631.53695908, 61135.89469243, 61918.24796557,\n",
              "       57376.32443189, 58614.22479431, 58836.49186697, 55625.52253268,\n",
              "       60976.15215688, 59688.98794781, 59397.56793379, 56583.67219774,\n",
              "       62189.48969137, 63291.6951362 , 59049.66873194, 61292.67654145,\n",
              "       57955.92728949, 61231.4300562 , 57064.33464228, 59827.41180987,\n",
              "       58620.05700337, 58270.08805339, 58435.68116511, 56722.84676162,\n",
              "       60398.50115965, 59181.17471942, 55208.4741762 , 59292.386178  ,\n",
              "       60532.53057878, 57252.16980399, 59100.04817475, 57733.62392312,\n",
              "       56902.48097526, 60108.08784928, 57806.02216255, 58862.48748105,\n",
              "       58470.08053643, 60533.67775537, 55785.86083903, 56792.87446635,\n",
              "       62344.71829606, 62536.15553793, 63025.25249106, 58864.4033431 ,\n",
              "       58413.15266503, 58543.29845961, 56002.80443705, 60308.89631347,\n",
              "       60852.67751925, 57722.77307146, 58630.79632914, 60435.67805593,\n",
              "       58818.79576663, 59609.40364148, 58880.03247878, 59701.05973143,\n",
              "       57671.98748501, 57022.86758842, 59012.05358655, 58344.41155113,\n",
              "       57037.09462795, 62128.78229792, 57389.88854136, 58330.07497096,\n",
              "       61424.88805192, 56605.32569919, 63824.22787934, 63076.58051638,\n",
              "       60981.37551896, 58625.07432019, 58813.04981367, 59912.356343  ,\n",
              "       63754.75448224, 59021.26458102, 54496.52235139, 59838.39869287,\n",
              "       59079.33909103, 58222.14166854, 59326.6942078 , 58997.06486442,\n",
              "       62062.08576039, 57857.64680652, 59104.96703041, 58354.40725467,\n",
              "       59335.16452757, 59478.87195921, 57950.39997532, 58646.78536745,\n",
              "       56952.92338222, 56875.05157042, 58318.64251348, 59780.76490909,\n",
              "       58899.02110349, 61188.81656665, 57459.8275265 , 60263.28310618,\n",
              "       61526.58396393, 59464.61519466, 59986.10688758, 57691.77120848,\n",
              "       58336.07800481, 57884.06436095, 58133.20966699, 59607.2646632 ,\n",
              "       61188.58098082, 59421.51260412, 58369.11993097, 62983.80653235,\n",
              "       61294.05668345, 57274.08854349, 59667.14530466, 58377.02315841,\n",
              "       60631.51241565, 60101.34383699, 58037.56781152, 61489.98123714,\n",
              "       58874.18207952, 60895.56419895, 59060.4865818 , 60972.3186661 ,\n",
              "       56266.76660603, 61366.79777112, 58854.41560151, 57544.11441198,\n",
              "       59430.61613205, 57752.12968469, 58782.07084584, 58529.35442619,\n",
              "       59717.72367701, 60192.83658164, 62260.99380408, 57073.23092497,\n",
              "       59530.51607969, 60556.94152775, 64403.83882871, 59286.01079529,\n",
              "       56559.40013939, 63746.50669652, 60065.90470721, 57499.96109796,\n",
              "       58262.06013975, 59237.09238186, 61869.43002784, 59855.3456773 ,\n",
              "       57576.77523061, 57440.37064924, 61778.39174186, 55761.19581029,\n",
              "       62128.09743501, 60857.67174421, 61295.48540013, 62007.42457428,\n",
              "       59087.22999896, 58759.82701312, 61395.43620489, 57922.64812209,\n",
              "       57373.93551583, 59452.60929161, 56760.90434335, 58630.26699807,\n",
              "       59019.13580286, 58429.31918408, 60995.05524538, 57259.92628105,\n",
              "       57102.30103512, 55508.81249301, 57271.68787714, 58236.52289687,\n",
              "       59191.31350706, 60089.15570877, 61743.60053625, 59496.73348466,\n",
              "       58410.18128668, 59449.00488333, 61973.62764278, 57520.44239383,\n",
              "       59492.67534567, 61112.88699908, 61557.85012453, 57380.7584946 ,\n",
              "       57492.29587726, 62745.86142684, 58407.15376541, 61582.36007275,\n",
              "       60669.59800504, 58470.25973292, 59796.83158348, 59389.36335058,\n",
              "       61307.74845677, 61382.55186027, 59736.54881365, 61035.54292711,\n",
              "       57502.75780954, 56434.04148711, 63090.02203775, 60390.54992452,\n",
              "       62216.60255912, 59490.66020444, 59724.53546534, 57866.86070595,\n",
              "       61196.69721622, 58686.88085261, 58429.05024493, 57153.40045737,\n",
              "       58213.06392927, 60441.98283853, 60998.32031955, 59782.44616166,\n",
              "       64674.80453147, 60588.8049253 , 59921.46543787, 59337.98223158,\n",
              "       58269.41808099, 57730.42698635, 61101.11648918, 57391.12350294,\n",
              "       57440.264563  , 55767.78711577, 64049.6425839 , 62616.21114352,\n",
              "       60450.12169899, 57728.60996257, 61988.94672536, 61550.64689039,\n",
              "       56629.26784468, 57668.61537001, 57959.66814619, 59298.20646897,\n",
              "       59059.10919364, 62946.71929818, 61457.14442136, 57281.34035129,\n",
              "       59648.92142905, 57864.49021845, 59045.84751959, 62757.12506665,\n",
              "       62867.70863993, 60129.39182111, 58907.19266662, 61969.95333343,\n",
              "       57794.34190262, 59894.44091629, 62570.22040429, 59793.4111846 ,\n",
              "       57502.8074935 , 60069.48897269, 61219.98262023, 62830.95776211,\n",
              "       57643.11040559, 59699.46923719, 61631.41687829, 59602.81284897,\n",
              "       60471.39739007, 58274.88613108, 60880.97250403, 59453.96824287,\n",
              "       62315.37607842, 58320.3851489 , 58232.10823131, 61791.65867449,\n",
              "       56012.92161586, 61071.35868696, 60901.78557187, 60860.72562084,\n",
              "       55763.84888581, 60812.606684  , 62061.5517364 , 61327.9459048 ,\n",
              "       59877.49882948, 58905.50602731, 60253.96953718, 58353.25853983,\n",
              "       57558.23123473, 62929.80355779, 58199.55315082, 60726.56614124,\n",
              "       61528.15368077, 58967.08099009, 59697.00757064, 60824.31514635,\n",
              "       61505.95770772, 57325.70600396, 60669.70657816, 59646.50056107,\n",
              "       59770.97947311, 60748.1805655 , 59807.27369547, 59845.77720844,\n",
              "       62865.69758666, 60438.20762151, 59041.40887551, 60616.70603023,\n",
              "       57673.97092208, 59548.68351624, 59529.33785381, 61639.22851018,\n",
              "       62456.60312206, 63173.36173556, 61534.35626789, 60149.42601942,\n",
              "       60816.60107104, 60363.92087283, 62233.46777532, 64411.56955194,\n",
              "       60933.39106227, 60891.66874045, 62718.73448736, 60917.60099357,\n",
              "       60437.82118129, 58143.19224353, 60608.62915195, 59101.8595226 ,\n",
              "       62616.13630967, 59724.8114717 , 59329.46427072, 59150.18224344,\n",
              "       60374.91879796, 64924.382729  , 58808.60954991, 60141.27067006,\n",
              "       62003.68398815, 61545.1823477 , 58001.96094625, 58077.69208681,\n",
              "       62374.14782686, 60784.16568411, 59817.27867849, 58638.71067078,\n",
              "       62539.14906145, 60137.6113395 , 58569.91781177, 61629.09358105,\n",
              "       62015.98615041, 57705.68513942, 59933.76676825, 59881.24569503,\n",
              "       57081.95257634, 61059.36624694, 60256.55561048, 61705.96381224,\n",
              "       61355.80581435, 61694.60189803, 58442.43653136, 61355.20883143,\n",
              "       59174.20341778, 60843.95036635, 61717.5004906 , 61001.01337441,\n",
              "       61390.79554555, 60396.68398103, 58467.30515051, 63024.72044548,\n",
              "       59626.5353249 , 57538.40730246, 58831.18032444, 60179.55935689,\n",
              "       58648.15974046, 56978.54490046, 58755.97470842, 59017.37794966,\n",
              "       60793.6562032 , 61714.9149143 , 58448.52466635, 61012.15356816,\n",
              "       58243.03632536, 60173.20545168, 60878.70903072, 61125.92544583,\n",
              "       63709.51023896, 59570.33798982, 60283.67311815, 63339.5486002 ,\n",
              "       56652.85929113, 61660.27819883, 60909.6483408 , 63501.02662805,\n",
              "       62022.26068981, 58833.12219746, 60700.3270625 , 58894.12580292,\n",
              "       60804.74287072, 61312.97367888, 58820.16876667, 64468.89667998,\n",
              "       56616.6551557 , 61545.23643228, 61371.83337891, 62247.34534348,\n",
              "       58222.44967552, 62707.797534  , 63558.08398608, 58527.12282931,\n",
              "       60703.41822316, 60576.89063536, 57417.91541946, 60103.64796253,\n",
              "       60582.52072315, 62864.82436673, 62084.16392759, 63321.23119312,\n",
              "       63022.01770937, 62193.72210018, 61721.13066164, 59963.79996295,\n",
              "       57841.77246812, 58513.20764436, 61786.63889448, 60413.6074238 ,\n",
              "       60125.10487954, 60999.36977607, 61821.55366452, 60364.55597957,\n",
              "       56025.31268787, 60350.00609914, 61227.83823679, 61185.54135608,\n",
              "       60457.72404176, 60181.711874  , 58562.89625337, 61455.79560071,\n",
              "       63467.19682147, 60941.91954474, 59771.7525394 , 59544.24818377,\n",
              "       59614.49999966, 60673.50353743, 60148.48717756, 62075.01567036,\n",
              "       61823.91632872, 61511.53241687, 58660.03065177, 63684.30819805,\n",
              "       58455.56802253, 61689.12287608, 62686.32630643, 58437.91496165,\n",
              "       58525.1689152 , 65074.35125576, 58882.32418922, 59952.45091515,\n",
              "       59788.49138329, 61620.3840388 , 60475.2253976 , 62335.72509332,\n",
              "       61073.68934429, 61855.36743915, 57596.35924717, 59147.24268971,\n",
              "       60654.25679741, 61858.88290092, 58258.04032497, 61347.67175592,\n",
              "       64014.46483011, 64206.72918964, 61740.5017585 , 61227.04716463,\n",
              "       61244.35788102, 59810.4845771 , 61166.90365884, 60755.90357086,\n",
              "       60470.18338876, 60634.14238264, 58280.46031358, 61676.33822038,\n",
              "       59790.60490735, 60386.23224322, 64907.87491086, 60576.4461286 ,\n",
              "       60737.88394305, 64604.12541912, 59264.37271458, 60531.2560576 ,\n",
              "       63216.32027505, 62243.11930905, 63863.98401952, 60458.46012465,\n",
              "       61411.37424538, 62354.68007333, 57990.87690124, 61013.94033786,\n",
              "       62465.51230852, 63723.55034895, 59008.73301152, 60850.66232607,\n",
              "       61713.06981007, 63143.50892807, 62845.26957924, 61871.6656783 ,\n",
              "       58705.71990239, 60135.45441089, 61332.8624526 , 61553.78779263,\n",
              "       62895.25462138, 60505.60461661, 61523.45946649, 63071.82927205,\n",
              "       59615.73746881, 59143.84224827, 64143.49401542, 57534.36737704,\n",
              "       60351.44874565, 61093.01048458, 61188.50731386, 63591.71751987,\n",
              "       59552.81411896, 63531.26543536, 61726.53685685, 59053.12938103,\n",
              "       59911.79468986, 61573.44497972, 59597.97884831, 61151.55329854,\n",
              "       61921.97640775, 62267.23772581, 60770.53945176, 60687.75027474,\n",
              "       57893.29248054, 65923.22146227, 64771.48015991, 60240.11213257,\n",
              "       62000.22552888, 62143.41080312, 61563.92320421, 59569.2201617 ,\n",
              "       59869.52982375, 62232.70484114, 59466.21270728, 61542.74968431,\n",
              "       60014.38763355, 64929.62952721, 62402.66840028, 58634.81097009,\n",
              "       63719.27970481, 56928.44275032, 61365.84958066, 61678.22543649,\n",
              "       62879.37298423, 61664.15370348, 61248.88776851, 63956.32266613,\n",
              "       63085.26195643, 59617.52903997, 64267.36969984, 62575.73407215,\n",
              "       58738.61191757, 64016.86141893, 60619.55076051, 63122.8159277 ,\n",
              "       59968.87552821, 60615.93923098, 63905.71358248, 60844.28810667,\n",
              "       60775.75942944, 58605.75554483, 63105.45412728, 59022.18381641,\n",
              "       61008.81391446, 61280.46590611, 62176.65784798, 62925.43013067,\n",
              "       60916.85207495, 59685.20519101, 60313.76379478, 60338.78506671])"
            ]
          },
          "execution_count": 9,
          "metadata": {},
          "output_type": "execute_result"
        }
      ],
      "source": [
        "y_pred"
      ]
    },
    {
      "cell_type": "code",
      "execution_count": null,
      "metadata": {
        "colab": {
          "base_uri": "https://localhost:8080/"
        },
        "id": "fZhkY3vQ5fKN",
        "outputId": "7a5d562a-5bab-473f-ffc2-6ce510196f16"
      },
      "outputs": [
        {
          "name": "stdout",
          "output_type": "stream",
          "text": [
            "Root Mean Square Error:\n",
            "\n",
            "17039.87499156996\n"
          ]
        }
      ],
      "source": [
        "from sklearn.metrics import mean_squared_error\n",
        "import math\n",
        "y_actual = y\n",
        "y_predicted = y_pred\n",
        "\n",
        "MSE = mean_squared_error(y_actual, y_predicted)\n",
        "\n",
        "RMSE = math.sqrt(MSE)\n",
        "print(\"Root Mean Square Error:\\n\")\n",
        "print(RMSE)"
      ]
    },
    {
      "cell_type": "code",
      "execution_count": null,
      "metadata": {
        "colab": {
          "base_uri": "https://localhost:8080/"
        },
        "id": "qt2Ufx3g3cRm",
        "outputId": "9d50b0d8-d98d-4985-8b39-3fccd48d6085"
      },
      "outputs": [
        {
          "name": "stdout",
          "output_type": "stream",
          "text": [
            "Cross-validation scores: [16482.53139109 18183.52021982 16374.92190775 17217.68789871\n",
            " 17367.26028204]\n",
            "Mean score: 17125.184339881976\n"
          ]
        }
      ],
      "source": [
        "from sklearn.model_selection import KFold\n",
        "from sklearn.model_selection import cross_val_score\n",
        "k_folds = 5\n",
        "kf = KFold(n_splits=k_folds, shuffle=True, random_state=42)\n",
        "scores = cross_val_score(model, x, y, cv=kf, scoring='neg_root_mean_squared_error')\n",
        "\n",
        "print(\"Cross-validation scores:\", -1*scores)\n",
        "print(\"Mean score:\", -1*scores.mean())"
      ]
    },
    {
      "cell_type": "code",
      "execution_count": null,
      "metadata": {
        "colab": {
          "base_uri": "https://localhost:8080/",
          "height": 579
        },
        "id": "Q551S52K7DKY",
        "outputId": "458a73dc-a7b8-4ee3-c0b4-f8999099408e"
      },
      "outputs": [
        {
          "data": {
            "image/png": "[encoded data removed]",
            "text/plain": [
              "<Figure size 640x480 with 2 Axes>"
            ]
          },
          "metadata": {},
          "output_type": "display_data"
        }
      ],
      "source": [
        "\n",
        "# importing the modules\n",
        "import numpy as np\n",
        "import seaborn as sn\n",
        "import matplotlib.pyplot as plt\n",
        "\n",
        "dataplot = sn.heatmap(df.corr(), cmap=\"YlGnBu\", annot=True)\n",
        "\n",
        "# displaying heatmap\n",
        "plt.show()"
      ]
    },
    {
      "cell_type": "code",
      "execution_count": null,
      "metadata": {
        "colab": {
          "base_uri": "https://localhost:8080/",
          "height": 449
        },
        "id": "5J_jYcqT70rn",
        "outputId": "65062d76-2a58-4356-f801-bfee7dad36ff"
      },
      "outputs": [
        {
          "data": {
            "image/png": "[encoded data removed]",
            "text/plain": [
              "<Figure size 640x480 with 1 Axes>"
            ]
          },
          "metadata": {},
          "output_type": "display_data"
        }
      ],
      "source": [
        "import matplotlib.pyplot as plt\n",
        "x=df['Items_Available']\n",
        "y=df['Store_Area']\n",
        "plt.plot(x, y, color='green')\n",
        "plt.xlabel('y')\n",
        "plt.ylabel('y_pred')\n",
        "plt.grid(True)\n",
        "plt.show()"
      ]
    },
    {
      "cell_type": "code",
      "execution_count": null,
      "metadata": {
        "id": "TU7Emkvf8eDt"
      },
      "outputs": [],
      "source": [
        "from sklearn.linear_model import Ridge\n",
        "model1=Ridge()\n",
        "model1.fit(x,y)\n",
        "y_pred1=model1.predict(x)"
      ]
    },
    {
      "cell_type": "code",
      "execution_count": null,
      "metadata": {
        "colab": {
          "base_uri": "https://localhost:8080/"
        },
        "id": "DXCIyfth8xEV",
        "outputId": "3f035f98-bb9f-46f4-934b-d622189a8a3f"
      },
      "outputs": [
        {
          "name": "stdout",
          "output_type": "stream",
          "text": [
            "Cross-validation scores: [16482.53161457 18183.52001204 16374.92207896 17217.68756513\n",
            " 17367.25888336]\n",
            "Mean score: 17125.18403081277\n"
          ]
        }
      ],
      "source": [
        "from sklearn.model_selection import KFold\n",
        "from sklearn.model_selection import cross_val_score\n",
        "k_folds = 5\n",
        "kf = KFold(n_splits=k_folds, shuffle=True, random_state=42)\n",
        "scores = cross_val_score(model1, x, y, cv=kf, scoring='neg_root_mean_squared_error')\n",
        "\n",
        "print(\"Cross-validation scores:\", -1*scores)\n",
        "print(\"Mean score:\", -1*scores.mean())"
      ]
    },
    {
      "cell_type": "code",
      "execution_count": null,
      "metadata": {
        "colab": {
          "base_uri": "https://localhost:8080/"
        },
        "id": "UIr1k7GT8-5V",
        "outputId": "3100c7d5-6bd9-432e-e4b5-44dea08d5040"
      },
      "outputs": [
        {
          "name": "stderr",
          "output_type": "stream",
          "text": [
            "/usr/local/lib/python3.10/dist-packages/sklearn/linear_model/_coordinate_descent.py:631: ConvergenceWarning: Objective did not converge. You might want to increase the number of iterations, check the scale of the features or consider increasing regularisation. Duality gap: 1.296e+11, tolerance: 2.645e+07\n",
            "  model = cd_fast.enet_coordinate_descent(\n"
          ]
        }
      ],
      "source": [
        "from sklearn.linear_model import Lasso\n",
        "model2=Lasso()\n",
        "model2.fit(x,y)\n",
        "y_pred2=model2.predict(x)"
      ]
    },
    {
      "cell_type": "code",
      "execution_count": null,
      "metadata": {
        "colab": {
          "base_uri": "https://localhost:8080/"
        },
        "id": "Nya7X8uV9I_V",
        "outputId": "0f896a5b-3526-4ffb-90fc-8646e460937b"
      },
      "outputs": [
        {
          "name": "stdout",
          "output_type": "stream",
          "text": [
            "Cross-validation scores: [16484.54757316 18182.11146817 16376.34032749 17215.36336118\n",
            " 17358.11108035]\n",
            "Mean score: 17123.294762068726\n"
          ]
        },
        {
          "name": "stderr",
          "output_type": "stream",
          "text": [
            "/usr/local/lib/python3.10/dist-packages/sklearn/linear_model/_coordinate_descent.py:631: ConvergenceWarning: Objective did not converge. You might want to increase the number of iterations, check the scale of the features or consider increasing regularisation. Duality gap: 1.051e+11, tolerance: 2.154e+07\n",
            "  model = cd_fast.enet_coordinate_descent(\n",
            "/usr/local/lib/python3.10/dist-packages/sklearn/linear_model/_coordinate_descent.py:631: ConvergenceWarning: Objective did not converge. You might want to increase the number of iterations, check the scale of the features or consider increasing regularisation. Duality gap: 1.004e+11, tolerance: 2.044e+07\n",
            "  model = cd_fast.enet_coordinate_descent(\n",
            "/usr/local/lib/python3.10/dist-packages/sklearn/linear_model/_coordinate_descent.py:631: ConvergenceWarning: Objective did not converge. You might want to increase the number of iterations, check the scale of the features or consider increasing regularisation. Duality gap: 1.051e+11, tolerance: 2.153e+07\n",
            "  model = cd_fast.enet_coordinate_descent(\n",
            "/usr/local/lib/python3.10/dist-packages/sklearn/linear_model/_coordinate_descent.py:631: ConvergenceWarning: Objective did not converge. You might want to increase the number of iterations, check the scale of the features or consider increasing regularisation. Duality gap: 1.034e+11, tolerance: 2.101e+07\n",
            "  model = cd_fast.enet_coordinate_descent(\n",
            "/usr/local/lib/python3.10/dist-packages/sklearn/linear_model/_coordinate_descent.py:631: ConvergenceWarning: Objective did not converge. You might want to increase the number of iterations, check the scale of the features or consider increasing regularisation. Duality gap: 1.032e+11, tolerance: 2.125e+07\n",
            "  model = cd_fast.enet_coordinate_descent(\n"
          ]
        }
      ],
      "source": [
        "from sklearn.model_selection import KFold\n",
        "from sklearn.model_selection import cross_val_score\n",
        "k_folds = 5\n",
        "kf = KFold(n_splits=k_folds, shuffle=True, random_state=42)\n",
        "scores = cross_val_score(model2, x, y, cv=kf, scoring='neg_root_mean_squared_error')\n",
        "\n",
        "print(\"Cross-validation scores:\", -1*scores)\n",
        "print(\"Mean score:\", -1*scores.mean())"
      ]
    },
    {
      "cell_type": "code",
      "execution_count": null,
      "metadata": {
        "colab": {
          "background_save": true
        },
        "id": "dJXxPN2A-rmc"
      },
      "outputs": [],
      "source": [
        "from sklearn.model_selection import GridSearchCV\n",
        "\n",
        "parameters = {\n",
        "    'alpha':[x for x in range(0,10000)]\n",
        "}\n",
        "grid_search = GridSearchCV(model1, parameters, n_jobs=-1)\n",
        "grid_search.fit(x, y)\n",
        "\n",
        "best_model = grid_search.best_estimator_"
      ]
    },
    {
      "cell_type": "code",
      "execution_count": null,
      "metadata": {
        "colab": {
          "base_uri": "https://localhost:8080/",
          "height": 75
        },
        "id": "DzPdp8GN-0Jf",
        "outputId": "d62e8308-0b19-49ae-d208-556b729ee06d"
      },
      "outputs": [
        {
          "data": {
            "text/html": [
              "<style>#sk-container-id-3 {color: black;background-color: white;}#sk-container-id-3 pre{padding: 0;}#sk-container-id-3 div.sk-toggleable {background-color: white;}#sk-container-id-3 label.sk-toggleable__label {cursor: pointer;display: block;width: 100%;margin-bottom: 0;padding: 0.3em;box-sizing: border-box;text-align: center;}#sk-container-id-3 label.sk-toggleable__label-arrow:before {content: \"▸\";float: left;margin-right: 0.25em;color: #696969;}#sk-container-id-3 label.sk-toggleable__label-arrow:hover:before {color: black;}#sk-container-id-3 div.sk-estimator:hover label.sk-toggleable__label-arrow:before {color: black;}#sk-container-id-3 div.sk-toggleable__content {max-height: 0;max-width: 0;overflow: hidden;text-align: left;background-color: #f0f8ff;}#sk-container-id-3 div.sk-toggleable__content pre {margin: 0.2em;color: black;border-radius: 0.25em;background-color: #f0f8ff;}#sk-container-id-3 input.sk-toggleable__control:checked~div.sk-toggleable__content {max-height: 200px;max-width: 100%;overflow: auto;}#sk-container-id-3 input.sk-toggleable__control:checked~label.sk-toggleable__label-arrow:before {content: \"▾\";}#sk-container-id-3 div.sk-estimator input.sk-toggleable__control:checked~label.sk-toggleable__label {background-color: #d4ebff;}#sk-container-id-3 div.sk-label input.sk-toggleable__control:checked~label.sk-toggleable__label {background-color: #d4ebff;}#sk-container-id-3 input.sk-hidden--visually {border: 0;clip: rect(1px 1px 1px 1px);clip: rect(1px, 1px, 1px, 1px);height: 1px;margin: -1px;overflow: hidden;padding: 0;position: absolute;width: 1px;}#sk-container-id-3 div.sk-estimator {font-family: monospace;background-color: #f0f8ff;border: 1px dotted black;border-radius: 0.25em;box-sizing: border-box;margin-bottom: 0.5em;}#sk-container-id-3 div.sk-estimator:hover {background-color: #d4ebff;}#sk-container-id-3 div.sk-parallel-item::after {content: \"\";width: 100%;border-bottom: 1px solid gray;flex-grow: 1;}#sk-container-id-3 div.sk-label:hover label.sk-toggleable__label {background-color: #d4ebff;}#sk-container-id-3 div.sk-serial::before {content: \"\";position: absolute;border-left: 1px solid gray;box-sizing: border-box;top: 0;bottom: 0;left: 50%;z-index: 0;}#sk-container-id-3 div.sk-serial {display: flex;flex-direction: column;align-items: center;background-color: white;padding-right: 0.2em;padding-left: 0.2em;position: relative;}#sk-container-id-3 div.sk-item {position: relative;z-index: 1;}#sk-container-id-3 div.sk-parallel {display: flex;align-items: stretch;justify-content: center;background-color: white;position: relative;}#sk-container-id-3 div.sk-item::before, #sk-container-id-3 div.sk-parallel-item::before {content: \"\";position: absolute;border-left: 1px solid gray;box-sizing: border-box;top: 0;bottom: 0;left: 50%;z-index: -1;}#sk-container-id-3 div.sk-parallel-item {display: flex;flex-direction: column;z-index: 1;position: relative;background-color: white;}#sk-container-id-3 div.sk-parallel-item:first-child::after {align-self: flex-end;width: 50%;}#sk-container-id-3 div.sk-parallel-item:last-child::after {align-self: flex-start;width: 50%;}#sk-container-id-3 div.sk-parallel-item:only-child::after {width: 0;}#sk-container-id-3 div.sk-dashed-wrapped {border: 1px dashed gray;margin: 0 0.4em 0.5em 0.4em;box-sizing: border-box;padding-bottom: 0.4em;background-color: white;}#sk-container-id-3 div.sk-label label {font-family: monospace;font-weight: bold;display: inline-block;line-height: 1.2em;}#sk-container-id-3 div.sk-label-container {text-align: center;}#sk-container-id-3 div.sk-container {/* jupyter's `normalize.less` sets `[hidden] { display: none; }` but bootstrap.min.css set `[hidden] { display: none !important; }` so we also need the `!important` here to be able to override the default hidden behavior on the sphinx rendered scikit-learn.org. See: https://github.com/scikit-learn/scikit-learn/issues/21755 */display: inline-block !important;position: relative;}#sk-container-id-3 div.sk-text-repr-fallback {display: none;}</style><div id=\"sk-container-id-3\" class=\"sk-top-container\"><div class=\"sk-text-repr-fallback\"><pre>Ridge(alpha=999)</pre><b>In a Jupyter environment, please rerun this cell to show the HTML representation or trust the notebook. <br />On GitHub, the HTML representation is unable to render, please try loading this page with nbviewer.org.</b></div><div class=\"sk-container\" hidden><div class=\"sk-item\"><div class=\"sk-estimator sk-toggleable\"><input class=\"sk-toggleable__control sk-hidden--visually\" id=\"sk-estimator-id-3\" type=\"checkbox\" checked><label for=\"sk-estimator-id-3\" class=\"sk-toggleable__label sk-toggleable__label-arrow\">Ridge</label><div class=\"sk-toggleable__content\"><pre>Ridge(alpha=999)</pre></div></div></div></div></div>"
            ],
            "text/plain": [
              "Ridge(alpha=999)"
            ]
          },
          "execution_count": 62,
          "metadata": {},
          "output_type": "execute_result"
        }
      ],
      "source": [
        "best_model"
      ]
    },
    {
      "cell_type": "code",
      "execution_count": null,
      "metadata": {
        "colab": {
          "base_uri": "https://localhost:8080/"
        },
        "id": "0cYOnACK-9BV",
        "outputId": "15f4a2c7-0f4b-4da0-e963-e13ba5b89582"
      },
      "outputs": [
        {
          "name": "stderr",
          "output_type": "stream",
          "text": [
            "/usr/local/lib/python3.10/dist-packages/sklearn/linear_model/_coordinate_descent.py:631: ConvergenceWarning: Objective did not converge. You might want to increase the number of iterations, check the scale of the features or consider increasing regularisation. Duality gap: 9.419e+10, tolerance: 2.645e+07\n",
            "  model = cd_fast.enet_coordinate_descent(\n"
          ]
        }
      ],
      "source": [
        "from sklearn.model_selection import GridSearchCV\n",
        "\n",
        "parameters = {\n",
        "    'alpha':[x for x in range(0,100)]\n",
        "}\n",
        "grid_search = GridSearchCV(model2, parameters, n_jobs=-1)\n",
        "grid_search.fit(x, y)\n",
        "\n",
        "best_model1 = grid_search.best_estimator_"
      ]
    },
    {
      "cell_type": "code",
      "execution_count": null,
      "metadata": {
        "colab": {
          "base_uri": "https://localhost:8080/",
          "height": 75
        },
        "id": "WxgkwvIJ_IS2",
        "outputId": "6fbc40b4-3a33-4ed9-cbd7-8e2365f136eb"
      },
      "outputs": [
        {
          "data": {
            "text/html": [
              "<style>#sk-container-id-2 {color: black;background-color: white;}#sk-container-id-2 pre{padding: 0;}#sk-container-id-2 div.sk-toggleable {background-color: white;}#sk-container-id-2 label.sk-toggleable__label {cursor: pointer;display: block;width: 100%;margin-bottom: 0;padding: 0.3em;box-sizing: border-box;text-align: center;}#sk-container-id-2 label.sk-toggleable__label-arrow:before {content: \"▸\";float: left;margin-right: 0.25em;color: #696969;}#sk-container-id-2 label.sk-toggleable__label-arrow:hover:before {color: black;}#sk-container-id-2 div.sk-estimator:hover label.sk-toggleable__label-arrow:before {color: black;}#sk-container-id-2 div.sk-toggleable__content {max-height: 0;max-width: 0;overflow: hidden;text-align: left;background-color: #f0f8ff;}#sk-container-id-2 div.sk-toggleable__content pre {margin: 0.2em;color: black;border-radius: 0.25em;background-color: #f0f8ff;}#sk-container-id-2 input.sk-toggleable__control:checked~div.sk-toggleable__content {max-height: 200px;max-width: 100%;overflow: auto;}#sk-container-id-2 input.sk-toggleable__control:checked~label.sk-toggleable__label-arrow:before {content: \"▾\";}#sk-container-id-2 div.sk-estimator input.sk-toggleable__control:checked~label.sk-toggleable__label {background-color: #d4ebff;}#sk-container-id-2 div.sk-label input.sk-toggleable__control:checked~label.sk-toggleable__label {background-color: #d4ebff;}#sk-container-id-2 input.sk-hidden--visually {border: 0;clip: rect(1px 1px 1px 1px);clip: rect(1px, 1px, 1px, 1px);height: 1px;margin: -1px;overflow: hidden;padding: 0;position: absolute;width: 1px;}#sk-container-id-2 div.sk-estimator {font-family: monospace;background-color: #f0f8ff;border: 1px dotted black;border-radius: 0.25em;box-sizing: border-box;margin-bottom: 0.5em;}#sk-container-id-2 div.sk-estimator:hover {background-color: #d4ebff;}#sk-container-id-2 div.sk-parallel-item::after {content: \"\";width: 100%;border-bottom: 1px solid gray;flex-grow: 1;}#sk-container-id-2 div.sk-label:hover label.sk-toggleable__label {background-color: #d4ebff;}#sk-container-id-2 div.sk-serial::before {content: \"\";position: absolute;border-left: 1px solid gray;box-sizing: border-box;top: 0;bottom: 0;left: 50%;z-index: 0;}#sk-container-id-2 div.sk-serial {display: flex;flex-direction: column;align-items: center;background-color: white;padding-right: 0.2em;padding-left: 0.2em;position: relative;}#sk-container-id-2 div.sk-item {position: relative;z-index: 1;}#sk-container-id-2 div.sk-parallel {display: flex;align-items: stretch;justify-content: center;background-color: white;position: relative;}#sk-container-id-2 div.sk-item::before, #sk-container-id-2 div.sk-parallel-item::before {content: \"\";position: absolute;border-left: 1px solid gray;box-sizing: border-box;top: 0;bottom: 0;left: 50%;z-index: -1;}#sk-container-id-2 div.sk-parallel-item {display: flex;flex-direction: column;z-index: 1;position: relative;background-color: white;}#sk-container-id-2 div.sk-parallel-item:first-child::after {align-self: flex-end;width: 50%;}#sk-container-id-2 div.sk-parallel-item:last-child::after {align-self: flex-start;width: 50%;}#sk-container-id-2 div.sk-parallel-item:only-child::after {width: 0;}#sk-container-id-2 div.sk-dashed-wrapped {border: 1px dashed gray;margin: 0 0.4em 0.5em 0.4em;box-sizing: border-box;padding-bottom: 0.4em;background-color: white;}#sk-container-id-2 div.sk-label label {font-family: monospace;font-weight: bold;display: inline-block;line-height: 1.2em;}#sk-container-id-2 div.sk-label-container {text-align: center;}#sk-container-id-2 div.sk-container {/* jupyter's `normalize.less` sets `[hidden] { display: none; }` but bootstrap.min.css set `[hidden] { display: none !important; }` so we also need the `!important` here to be able to override the default hidden behavior on the sphinx rendered scikit-learn.org. See: https://github.com/scikit-learn/scikit-learn/issues/21755 */display: inline-block !important;position: relative;}#sk-container-id-2 div.sk-text-repr-fallback {display: none;}</style><div id=\"sk-container-id-2\" class=\"sk-top-container\"><div class=\"sk-text-repr-fallback\"><pre>Lasso(alpha=99)</pre><b>In a Jupyter environment, please rerun this cell to show the HTML representation or trust the notebook. <br />On GitHub, the HTML representation is unable to render, please try loading this page with nbviewer.org.</b></div><div class=\"sk-container\" hidden><div class=\"sk-item\"><div class=\"sk-estimator sk-toggleable\"><input class=\"sk-toggleable__control sk-hidden--visually\" id=\"sk-estimator-id-2\" type=\"checkbox\" checked><label for=\"sk-estimator-id-2\" class=\"sk-toggleable__label sk-toggleable__label-arrow\">Lasso</label><div class=\"sk-toggleable__content\"><pre>Lasso(alpha=99)</pre></div></div></div></div></div>"
            ],
            "text/plain": [
              "Lasso(alpha=99)"
            ]
          },
          "execution_count": 60,
          "metadata": {},
          "output_type": "execute_result"
        }
      ],
      "source": [
        "best_model1"
      ]
    }
  ],
  "metadata": {
    "colab": {
      "provenance": []
    },
    "kernelspec": {
      "display_name": "Python 3",
      "name": "python3"
    },
    "language_info": {
      "name": "python"
    }
  },
  "nbformat": 4,
  "nbformat_minor": 0
}